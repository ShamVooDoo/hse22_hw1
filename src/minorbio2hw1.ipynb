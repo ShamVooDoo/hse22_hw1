{
  "nbformat": 4,
  "nbformat_minor": 0,
  "metadata": {
    "colab": {
      "provenance": []
    },
    "kernelspec": {
      "name": "python3",
      "display_name": "Python 3"
    },
    "language_info": {
      "name": "python"
    }
  },
  "cells": [
    {
      "cell_type": "code",
      "execution_count": 1,
      "metadata": {
        "id": "EdnehTsAJ_X6"
      },
      "outputs": [],
      "source": [
        "import re"
      ]
    },
    {
      "cell_type": "code",
      "source": [
        "def get_info(f, text, output = True):\n",
        "    lengths = []\n",
        "    total_len = 0\n",
        "    num = 0\n",
        "    max_len = 0\n",
        "    length = 0\n",
        "    score = 0\n",
        "    max_sequence = ''\n",
        "    curr_sequence = ''\n",
        "    for line in f:\n",
        "        if (line[0] == '>'):\n",
        "            if num != 0:\n",
        "                lengths.append(length)\n",
        "            num += 1\n",
        "            if length >= max_len:\n",
        "                max_len = length\n",
        "                max_sequence = curr_sequence\n",
        "            curr_sequence = ''\n",
        "            length = 0\n",
        "        else:\n",
        "            curr_sequence += line.strip()\n",
        "            length += len(line.strip())\n",
        "            total_len += len(line.strip())\n",
        "     \n",
        "    lengths.sort(reverse = True) \n",
        "    for i in lengths:\n",
        "        score += i\n",
        "        if score >= total_len / 2:\n",
        "            if output == True:\n",
        "                print(f'Анализ {text}\\n\\\n",
        "Общее количество: {num},\\n\\\n",
        "Общая длина: {total_len},\\n\\\n",
        "Длина самого длинного: {max_len},\\n\\\n",
        "N50: {i}\\n')\n",
        "            break\n",
        "    return max_sequence"
      ],
      "metadata": {
        "id": "Au7N57TxKJhw"
      },
      "execution_count": 29,
      "outputs": []
    },
    {
      "cell_type": "code",
      "source": [
        "max_cont = get_info(open('Poil_contig.fa', 'r'), 'контигов')\n"
      ],
      "metadata": {
        "colab": {
          "base_uri": "https://localhost:8080/"
        },
        "id": "IbMsvhc8URy4",
        "outputId": "4f98dfba-f1e7-4cf2-af80-bafe7f4be864"
      },
      "execution_count": 30,
      "outputs": [
        {
          "output_type": "stream",
          "name": "stdout",
          "text": [
            "Анализ контигов\n",
            "Общее количество: 637,\n",
            "Общая длина: 3929152,\n",
            "Длина самого длинного: 179307,\n",
            "N50: 49504\n",
            "\n"
          ]
        }
      ]
    },
    {
      "cell_type": "code",
      "source": [
        "max_scaf = get_info(open('Poil_scaffold.fa', 'r'), 'скаффолдов')"
      ],
      "metadata": {
        "colab": {
          "base_uri": "https://localhost:8080/"
        },
        "id": "JG-pt_9gUi0h",
        "outputId": "4cf3ba14-5563-432d-ff3d-9c76e8600f10"
      },
      "execution_count": 23,
      "outputs": [
        {
          "output_type": "stream",
          "name": "stdout",
          "text": [
            "Анализ скаффолдов\n",
            "Общее количество: 69,\n",
            "Общая длина: 3876760,\n",
            "Длина самого длинного: 3836511,\n",
            "N50: 3836511\n",
            "\n"
          ]
        }
      ]
    },
    {
      "cell_type": "code",
      "source": [
        "print(f'Общая длина гэпов: {max_scaf.count(\"N\")}')\n",
        "max_scaf = re.sub(r'N{2,}', 'N', max_scaf)\n",
        "print(f'Число гэпов: {max_scaf.count(\"N\")}')"
      ],
      "metadata": {
        "colab": {
          "base_uri": "https://localhost:8080/"
        },
        "id": "skAzxOCAUsXB",
        "outputId": "450483a2-d083-4fc0-a209-1a7e8424cbe3"
      },
      "execution_count": 10,
      "outputs": [
        {
          "output_type": "stream",
          "name": "stdout",
          "text": [
            "Общая длина гэпов: 6782\n",
            "Число гэпов: 61\n"
          ]
        }
      ]
    },
    {
      "cell_type": "code",
      "source": [
        "max_scaf = get_info(open('Poil_gapClosed.fa', 'r'), 'скаффолдов', False)\n",
        "with open(r'/content/longest.fa', 'w') as fp:\n",
        "    fp.write(max_scaf)\n",
        "    pass"
      ],
      "metadata": {
        "id": "7bFUpXoMWWL1"
      },
      "execution_count": 22,
      "outputs": []
    },
    {
      "cell_type": "code",
      "source": [
        "print(f'Общая длина гэпов для обрезанных чтений: {max_scaf.count(\"N\")}')\n",
        "max_scaf = re.sub(r'N{2,}', 'N', max_scaf)\n",
        "print(f'Число гэпов для обрезанных чтений: {max_scaf.count(\"N\")}')"
      ],
      "metadata": {
        "colab": {
          "base_uri": "https://localhost:8080/"
        },
        "id": "-WkeicJIWYjq",
        "outputId": "44f06fc7-6b4a-4b29-d7c2-e3fe59b78f36"
      },
      "execution_count": 13,
      "outputs": [
        {
          "output_type": "stream",
          "name": "stdout",
          "text": [
            "Общая длина гэпов для обрезанных чтений: 2537\n",
            "Число гэпов для обрезанных чтений: 8\n"
          ]
        }
      ]
    }
  ]
}